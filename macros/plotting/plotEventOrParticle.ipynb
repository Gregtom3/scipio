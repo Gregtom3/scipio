{
 "cells": [
  {
   "cell_type": "code",
   "execution_count": 31,
   "id": "thirty-vitamin",
   "metadata": {},
   "outputs": [],
   "source": [
    "%run ../../src/kinematicsPlotter.ipynb\n",
    "PROJECT_NAME=\"pipluspi0_noresonance_tiny\"\n",
    "MLmethod=\"catboost\""
   ]
  },
  {
   "cell_type": "code",
   "execution_count": null,
   "id": "lined-mortgage",
   "metadata": {},
   "outputs": [
    {
     "data": {
      "text/plain": [
       "['x',\n",
       " 'y',\n",
       " 'Q2',\n",
       " 'W',\n",
       " 'Mx',\n",
       " 'z',\n",
       " 'xF',\n",
       " 'Mgg',\n",
       " 'Mh',\n",
       " 'phiH',\n",
       " 'phiR',\n",
       " 'comTheta',\n",
       " 'Ee',\n",
       " 'Eg',\n",
       " 'Epiplus',\n",
       " 'thetae',\n",
       " 'thetag',\n",
       " 'thetapiplus',\n",
       " 'phie',\n",
       " 'phig',\n",
       " 'phipiplus',\n",
       " 'MggZoom']"
      ]
     },
     "execution_count": 32,
     "metadata": {},
     "output_type": "execute_result"
    }
   ],
   "source": [
    "# Below is a list of the current draw options\n",
    "draw_options()"
   ]
  },
  {
   "cell_type": "markdown",
   "id": "forbidden-malawi",
   "metadata": {},
   "source": [
    "## Plots in Signal+Bg, and Bg regions"
   ]
  },
  {
   "cell_type": "code",
   "execution_count": null,
   "id": "whole-input",
   "metadata": {},
   "outputs": [],
   "source": [
    "evpars=['x','y','Q2','W','Mx','z','xF','Mgg','Mh','phiH','phiR','comTheta']\n",
    "for v in [\"Fall2018_inbending\",\"Fall2018_outbending\",\"Spring2019_inbending\"]:\n",
    "    make_standard_plots(PROJECT_NAME,MLmethod,v,draw_options(),'all')\n",
    "    make_standard_plots(PROJECT_NAME,MLmethod,v,evpars,'sigbg','Mgg>0.07 && Mgg<0.22')\n",
    "    make_standard_plots(PROJECT_NAME,MLmethod,v,evpars,'bg','Mgg>0.22')\n",
    "for v in [\"MC_inbending\",\"MC_outbending\"]:\n",
    "    make_ml_plots(PROJECT_NAME,MLmethod,v,draw_options(),0.9,'all')\n",
    "    make_ml_plots(PROJECT_NAME,MLmethod,v,evpars,0.9,'sigbg','Mgg>0.07 && Mgg<0.22')\n",
    "    make_ml_plots(PROJECT_NAME,MLmethod,v,evpars,0.9,'bg','Mgg>0.22')"
   ]
  },
  {
   "cell_type": "code",
   "execution_count": null,
   "id": "under-script",
   "metadata": {},
   "outputs": [],
   "source": [
    "#################################################"
   ]
  },
  {
   "cell_type": "code",
   "execution_count": 24,
   "id": "loving-clause",
   "metadata": {},
   "outputs": [
    {
     "name": "stderr",
     "output_type": "stream",
     "text": [
      "Info in <TCanvas::Print>: pdf file /work/clas12/users/gmat/scipio/projects/pipluspi0_noresonance_tiny/catboost/kinPlots/Fall2018_inbending/signal/c_data.pdf has been created\n",
      "Warning in <TCanvas::Constructor>: Deleting canvas with same name: c\n",
      "Info in <TCanvas::Print>: pdf file /work/clas12/users/gmat/scipio/projects/pipluspi0_noresonance_tiny/catboost/kinPlots/Fall2018_inbending/signal/c_mc.pdf has been created\n",
      "Warning in <TCanvas::Constructor>: Deleting canvas with same name: c\n",
      "Info in <TCanvas::Print>: pdf file /work/clas12/users/gmat/scipio/projects/pipluspi0_noresonance_tiny/catboost/kinPlots/Fall2018_inbending/signal/c_overlay.pdf has been created\n",
      "Info in <TCanvas::Print>: pdf file /work/clas12/users/gmat/scipio/projects/pipluspi0_noresonance_tiny/catboost/kinPlots/Fall2018_outbending/signal/c_data.pdf has been created\n",
      "Warning in <TCanvas::Constructor>: Deleting canvas with same name: c\n",
      "Info in <TCanvas::Print>: pdf file /work/clas12/users/gmat/scipio/projects/pipluspi0_noresonance_tiny/catboost/kinPlots/Fall2018_outbending/signal/c_mc.pdf has been created\n",
      "Warning in <TCanvas::Constructor>: Deleting canvas with same name: c\n",
      "Info in <TCanvas::Print>: pdf file /work/clas12/users/gmat/scipio/projects/pipluspi0_noresonance_tiny/catboost/kinPlots/Fall2018_outbending/signal/c_overlay.pdf has been created\n",
      "Info in <TCanvas::Print>: pdf file /work/clas12/users/gmat/scipio/projects/pipluspi0_noresonance_tiny/catboost/kinPlots/Spring2019_inbending/signal/c_data.pdf has been created\n",
      "Warning in <TCanvas::Constructor>: Deleting canvas with same name: c\n",
      "Info in <TCanvas::Print>: pdf file /work/clas12/users/gmat/scipio/projects/pipluspi0_noresonance_tiny/catboost/kinPlots/Spring2019_inbending/signal/c_mc.pdf has been created\n",
      "Warning in <TCanvas::Constructor>: Deleting canvas with same name: c\n",
      "Info in <TCanvas::Print>: pdf file /work/clas12/users/gmat/scipio/projects/pipluspi0_noresonance_tiny/catboost/kinPlots/Spring2019_inbending/signal/c_overlay.pdf has been created\n"
     ]
    }
   ],
   "source": [
    "for v in [\"Fall2018_inbending\",\"Fall2018_outbending\",\"Spring2019_inbending\"]:\n",
    "    make_standard_plots(PROJECT_NAME,MLmethod,v,['x','y','z','Mgg'],'signal','Mgg>0.07 && Mgg<0.22')"
   ]
  },
  {
   "cell_type": "code",
   "execution_count": 27,
   "id": "outstanding-wallet",
   "metadata": {},
   "outputs": [
    {
     "name": "stderr",
     "output_type": "stream",
     "text": [
      "Info in <TCanvas::Print>: pdf file /work/clas12/users/gmat/scipio/projects/pipluspi0_noresonance_tiny/catboost/mlPlots/MC_inbending_threshold_0.9/signal/c_mc_sigbg.pdf has been created\n",
      "Warning in <TCanvas::Constructor>: Deleting canvas with same name: c\n",
      "Info in <TCanvas::Print>: pdf file /work/clas12/users/gmat/scipio/projects/pipluspi0_noresonance_tiny/catboost/mlPlots/MC_inbending_threshold_0.9/signal/c_sigbg_w_pred.pdf has been created\n",
      "Warning in <TCanvas::Constructor>: Deleting canvas with same name: c\n",
      "Info in <TCanvas::Print>: pdf file /work/clas12/users/gmat/scipio/projects/pipluspi0_noresonance_tiny/catboost/mlPlots/MC_inbending_threshold_0.9/signal/c_confusion.pdf has been created\n",
      "Info in <TCanvas::Print>: pdf file /work/clas12/users/gmat/scipio/projects/pipluspi0_noresonance_tiny/catboost/mlPlots/MC_outbending_threshold_0.9/signal/c_mc_sigbg.pdf has been created\n",
      "Warning in <TCanvas::Constructor>: Deleting canvas with same name: c\n",
      "Info in <TCanvas::Print>: pdf file /work/clas12/users/gmat/scipio/projects/pipluspi0_noresonance_tiny/catboost/mlPlots/MC_outbending_threshold_0.9/signal/c_sigbg_w_pred.pdf has been created\n",
      "Warning in <TCanvas::Constructor>: Deleting canvas with same name: c\n",
      "Info in <TCanvas::Print>: pdf file /work/clas12/users/gmat/scipio/projects/pipluspi0_noresonance_tiny/catboost/mlPlots/MC_outbending_threshold_0.9/signal/c_confusion.pdf has been created\n"
     ]
    }
   ],
   "source": [
    "for v in [\"MC_inbending\",\"MC_outbending\"]:\n",
    "    make_ml_plots(PROJECT_NAME,MLmethod,v,[\"x\",\"y\",\"Q2\",\"z\",\n",
    "                               \"Eg\",\"thetag\",\"phig\",\"Mgg\",\n",
    "                               \"Mh\",\"phiH\",\"phiR\",\"comTheta\"],0.9,'signal','Mgg>0.07&&Mgg<0.22')"
   ]
  },
  {
   "cell_type": "code",
   "execution_count": null,
   "id": "pleasant-posting",
   "metadata": {},
   "outputs": [],
   "source": [
    "#################################################"
   ]
  },
  {
   "cell_type": "code",
   "execution_count": 15,
   "id": "located-mobile",
   "metadata": {},
   "outputs": [
    {
     "name": "stderr",
     "output_type": "stream",
     "text": [
      "Info in <TCanvas::Print>: pdf file /work/clas12/users/gmat/scipio/projects/pipluspi0_noresonance_all/catboost/kinPlots/Fall2018_inbending/c_data.pdf has been created\n",
      "Warning in <TCanvas::Constructor>: Deleting canvas with same name: c\n",
      "Info in <TCanvas::Print>: pdf file /work/clas12/users/gmat/scipio/projects/pipluspi0_noresonance_all/catboost/kinPlots/Fall2018_inbending/c_mc.pdf has been created\n",
      "Warning in <TCanvas::Constructor>: Deleting canvas with same name: c\n",
      "Info in <TCanvas::Print>: pdf file /work/clas12/users/gmat/scipio/projects/pipluspi0_noresonance_all/catboost/kinPlots/Fall2018_inbending/c_overlay.pdf has been created\n",
      "Info in <TCanvas::Print>: pdf file /work/clas12/users/gmat/scipio/projects/pipluspi0_noresonance_all/catboost/kinPlots/Fall2018_outbending/c_data.pdf has been created\n",
      "Warning in <TCanvas::Constructor>: Deleting canvas with same name: c\n",
      "Info in <TCanvas::Print>: pdf file /work/clas12/users/gmat/scipio/projects/pipluspi0_noresonance_all/catboost/kinPlots/Fall2018_outbending/c_mc.pdf has been created\n",
      "Warning in <TCanvas::Constructor>: Deleting canvas with same name: c\n",
      "Info in <TCanvas::Print>: pdf file /work/clas12/users/gmat/scipio/projects/pipluspi0_noresonance_all/catboost/kinPlots/Fall2018_outbending/c_overlay.pdf has been created\n",
      "Info in <TCanvas::Print>: pdf file /work/clas12/users/gmat/scipio/projects/pipluspi0_noresonance_all/catboost/kinPlots/Spring2019_inbending/c_data.pdf has been created\n",
      "Warning in <TCanvas::Constructor>: Deleting canvas with same name: c\n",
      "Info in <TCanvas::Print>: pdf file /work/clas12/users/gmat/scipio/projects/pipluspi0_noresonance_all/catboost/kinPlots/Spring2019_inbending/c_mc.pdf has been created\n",
      "Warning in <TCanvas::Constructor>: Deleting canvas with same name: c\n",
      "Info in <TCanvas::Print>: pdf file /work/clas12/users/gmat/scipio/projects/pipluspi0_noresonance_all/catboost/kinPlots/Spring2019_inbending/c_overlay.pdf has been created\n"
     ]
    }
   ],
   "source": [
    "for v in [\"Fall2018_inbending\",\"Fall2018_outbending\",\"Spring2019_inbending\"]:\n",
    "    make_standard_plots(PROJECT_NAME,MLmethod,v,draw_options())"
   ]
  },
  {
   "cell_type": "code",
   "execution_count": 16,
   "id": "ancient-inspector",
   "metadata": {},
   "outputs": [
    {
     "name": "stderr",
     "output_type": "stream",
     "text": [
      "Info in <TCanvas::Print>: pdf file /work/clas12/users/gmat/scipio/projects/pipluspi0_noresonance_all/catboost/mlPlots/MC_inbending_threshold_0.9/c_mc_sigbg.pdf has been created\n",
      "Warning in <TCanvas::Constructor>: Deleting canvas with same name: c\n",
      "Info in <TCanvas::Print>: pdf file /work/clas12/users/gmat/scipio/projects/pipluspi0_noresonance_all/catboost/mlPlots/MC_inbending_threshold_0.9/c_sigbg_w_pred.pdf has been created\n",
      "Warning in <TCanvas::Constructor>: Deleting canvas with same name: c\n",
      "Info in <TCanvas::Print>: pdf file /work/clas12/users/gmat/scipio/projects/pipluspi0_noresonance_all/catboost/mlPlots/MC_inbending_threshold_0.9/c_confusion.pdf has been created\n",
      "Info in <TCanvas::Print>: pdf file /work/clas12/users/gmat/scipio/projects/pipluspi0_noresonance_all/catboost/mlPlots/MC_outbending_threshold_0.9/c_mc_sigbg.pdf has been created\n",
      "Warning in <TCanvas::Constructor>: Deleting canvas with same name: c\n",
      "Info in <TCanvas::Print>: pdf file /work/clas12/users/gmat/scipio/projects/pipluspi0_noresonance_all/catboost/mlPlots/MC_outbending_threshold_0.9/c_sigbg_w_pred.pdf has been created\n",
      "Warning in <TCanvas::Constructor>: Deleting canvas with same name: c\n",
      "Info in <TCanvas::Print>: pdf file /work/clas12/users/gmat/scipio/projects/pipluspi0_noresonance_all/catboost/mlPlots/MC_outbending_threshold_0.9/c_confusion.pdf has been created\n"
     ]
    }
   ],
   "source": [
    "for v in [\"MC_inbending\",\"MC_outbending\"]:\n",
    "    make_ml_plots(PROJECT_NAME,MLmethod,v,[\"x\",\"y\",\"Q2\",\"z\",\n",
    "                               \"Eg\",\"thetag\",\"phig\",\"Mgg\",\n",
    "                               \"Mh\",\"phiH\",\"phiR\",\"comTheta\"],0.9)"
   ]
  },
  {
   "cell_type": "code",
   "execution_count": null,
   "id": "single-range",
   "metadata": {},
   "outputs": [],
   "source": [
    "# make_ml_plots(\"MC_inbending\",[\"x\",\"y\",\"Q2\",\"z\",\n",
    "#                               \"Eg\",\"thetag\",\"phig\",\"Mgg\",\n",
    "#                               \"Mh\",\"phiH\",\"phiR\",\"comTheta\"],0.9)"
   ]
  }
 ],
 "metadata": {
  "kernelspec": {
   "display_name": "Python 3",
   "language": "python",
   "name": "python3"
  },
  "language_info": {
   "codemirror_mode": {
    "name": "ipython",
    "version": 3
   },
   "file_extension": ".py",
   "mimetype": "text/x-python",
   "name": "python",
   "nbconvert_exporter": "python",
   "pygments_lexer": "ipython3",
   "version": "3.8.6"
  }
 },
 "nbformat": 4,
 "nbformat_minor": 5
}
