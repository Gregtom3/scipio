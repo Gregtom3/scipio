{
 "cells": [
  {
   "cell_type": "code",
   "execution_count": 40,
   "id": "curious-treat",
   "metadata": {},
   "outputs": [],
   "source": [
    "%run ../../src/kinematicsPlotter.ipynb"
   ]
  },
  {
   "cell_type": "code",
   "execution_count": 36,
   "id": "champion-village",
   "metadata": {},
   "outputs": [
    {
     "data": {
      "text/plain": [
       "['x',\n",
       " 'y',\n",
       " 'Q2',\n",
       " 'W',\n",
       " 'Mx',\n",
       " 'z',\n",
       " 'xF',\n",
       " 'Mgg',\n",
       " 'Mh',\n",
       " 'phiH',\n",
       " 'phiR',\n",
       " 'comTheta',\n",
       " 'Ee',\n",
       " 'Eg',\n",
       " 'Epiplus',\n",
       " 'thetae',\n",
       " 'thetag',\n",
       " 'thetapiplus',\n",
       " 'phie',\n",
       " 'phig',\n",
       " 'phipiplus',\n",
       " 'MggZoom']"
      ]
     },
     "execution_count": 36,
     "metadata": {},
     "output_type": "execute_result"
    }
   ],
   "source": [
    "# Below is a list of the current draw options\n",
    "draw_options()"
   ]
  },
  {
   "cell_type": "code",
   "execution_count": 41,
   "id": "french-maldives",
   "metadata": {},
   "outputs": [
    {
     "name": "stderr",
     "output_type": "stream",
     "text": [
      "Info in <TCanvas::Print>: pdf file ././plots_noresonance/standard_Fall2018_inbending/c_data.pdf has been created\n",
      "Warning in <TCanvas::Constructor>: Deleting canvas with same name: c\n",
      "Info in <TCanvas::Print>: pdf file ././plots_noresonance/standard_Fall2018_inbending/c_mc.pdf has been created\n",
      "Warning in <TCanvas::Constructor>: Deleting canvas with same name: c\n",
      "Info in <TCanvas::Print>: pdf file ././plots_noresonance/standard_Fall2018_inbending/c_overlay.pdf has been created\n",
      "Info in <TCanvas::Print>: pdf file ././plots_noresonance/standard_Fall2018_outbending/c_data.pdf has been created\n",
      "Warning in <TCanvas::Constructor>: Deleting canvas with same name: c\n",
      "Info in <TCanvas::Print>: pdf file ././plots_noresonance/standard_Fall2018_outbending/c_mc.pdf has been created\n",
      "Warning in <TCanvas::Constructor>: Deleting canvas with same name: c\n",
      "Info in <TCanvas::Print>: pdf file ././plots_noresonance/standard_Fall2018_outbending/c_overlay.pdf has been created\n",
      "Info in <TCanvas::Print>: pdf file ././plots_noresonance/standard_Spring2019_inbending/c_data.pdf has been created\n",
      "Warning in <TCanvas::Constructor>: Deleting canvas with same name: c\n",
      "Info in <TCanvas::Print>: pdf file ././plots_noresonance/standard_Spring2019_inbending/c_mc.pdf has been created\n",
      "Warning in <TCanvas::Constructor>: Deleting canvas with same name: c\n",
      "Info in <TCanvas::Print>: pdf file ././plots_noresonance/standard_Spring2019_inbending/c_overlay.pdf has been created\n"
     ]
    }
   ],
   "source": [
    "for v in [\"Fall2018_inbending\",\"Fall2018_outbending\",\"Spring2019_inbending\"]:\n",
    "    make_standard_plots(v,draw_options())"
   ]
  },
  {
   "cell_type": "code",
   "execution_count": null,
   "id": "statutory-combine",
   "metadata": {},
   "outputs": [],
   "source": []
  }
 ],
 "metadata": {
  "kernelspec": {
   "display_name": "Python 3",
   "language": "python",
   "name": "python3"
  },
  "language_info": {
   "codemirror_mode": {
    "name": "ipython",
    "version": 3
   },
   "file_extension": ".py",
   "mimetype": "text/x-python",
   "name": "python",
   "nbconvert_exporter": "python",
   "pygments_lexer": "ipython3",
   "version": "3.8.6"
  }
 },
 "nbformat": 4,
 "nbformat_minor": 5
}
