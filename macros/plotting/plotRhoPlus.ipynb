{
 "cells": [
  {
   "cell_type": "code",
   "execution_count": 19,
   "id": "aerial-percentage",
   "metadata": {},
   "outputs": [
    {
     "name": "stderr",
     "output_type": "stream",
     "text": [
      "Warning in <TROOT::Append>: Replacing existing TH1: h1 (Potential memory leak).\n",
      "Warning in <TROOT::Append>: Replacing existing TH1: h2 (Potential memory leak).\n",
      "Warning in <TROOT::Append>: Replacing existing TH1: h3 (Potential memory leak).\n",
      "Warning in <TCanvas::Constructor>: Deleting canvas with same name: c\n"
     ]
    },
    {
     "data": {
      "image/png": "[encoded data removed]",
      "text/plain": [
       "<IPython.core.display.Image object>"
      ]
     },
     "metadata": {},
     "output_type": "display_data"
    }
   ],
   "source": [
    "import ROOT\n",
    "ROOT.gStyle.SetHistLineWidth(2)\n",
    "ROOT.gStyle.SetOptStat(0)\n",
    "which=1\n",
    "zcut=\"z>0.6 && z < 0.8\"\n",
    "if(which==1):\n",
    "    text=\"pipluspi0\"\n",
    "else:\n",
    "    text=\"piminuspi0\"\n",
    "\n",
    "chain1 = ROOT.TChain(\"dihadron\")\n",
    "chain1.Add(f\"/volatile/clas12/users/gmat/clas12analysis.sidis.data/rga/ML/projects/{text}_prelim/catboost/postprocess/nSidis_50*.root\")\n",
    "h1 = ROOT.TH1F(\"h1\",f\"DATA {text} {zcut};W [GeV];arbitrary units\",100,1.8,5)\n",
    "chain1.Draw(\"W>>h1\",f\"prob_g1>0.9&&prob_g2>0.9&&Mh<2&&{zcut}\",\"goff\")\n",
    "\n",
    "chain2 = ROOT.TChain(\"dihadron\")\n",
    "chain2.Add(f\"/volatile/clas12/users/gmat/clas12analysis.sidis.data/rga/ML/projects/{text}_prelim/catboost/postprocess/MC_305*.root\")\n",
    "h2 = ROOT.TH1F(\"h2\",f\"MC {text} {zcut};W [GeV];arbitrary units\",100,1.8,5)\n",
    "chain2.Draw(\"trueW>>h2\",f\"MCmatch==1&&Mh<2&&{zcut}&&trueMx>0.938&&trueMx<0.940\",\"goff\")\n",
    "h3 = ROOT.TH1F(\"h3\",f\"MC {text} {zcut};W [GeV];arbitrary units\",100,1.8,5)\n",
    "chain2.Draw(\"trueW>>h3\",f\"MCmatch==1&&Mh<2&&{zcut}&&(trueMx<0.938||trueMx>0.940)\",\"goff\")\n",
    "h3.SetLineColor(2)\n",
    "h3.SetLineStyle(3)\n",
    "intMC=(h1.Integral()/h3.Integral())\n",
    "\n",
    "h2.Scale(intMC)\n",
    "h3.Scale(intMC)\n",
    "h2.SetLineColor(2)\n",
    "c=ROOT.TCanvas(\"c\",\"c\",500,500)\n",
    "h3.Draw(\"hist\")\n",
    "h1.Draw(\"hist same\")\n",
    "h2.Draw(\"hist same\")\n",
    "\n",
    "legend = ROOT.TLegend(0.5,0.75,0.88,0.88)\n",
    "legend.AddEntry(h1,\"Data\",\"l\")\n",
    "legend.AddEntry(h2,\"MC exclusive #rho^{+}\",\"l\")\n",
    "legend.AddEntry(h3,\"MC non-excl. #rho^{+}\",\"l\")\n",
    "legend.SetBorderSize(1)\n",
    "h3.GetYaxis().SetLabelSize(0)\n",
    "legend.Draw(\"same\")\n",
    "\n",
    "\n",
    "h1.SetTitle(\"\")\n",
    "h3.SetTitle(\"\")\n",
    "latex=ROOT.TLatex()\n",
    "latex.SetTextSize(0.03)\n",
    "latex.SetTextFont(42)\n",
    "latex.DrawLatexNDC(0.55,0.69,\"Fall 2018 Inbending Sample\")\n",
    "latex.DrawLatexNDC(0.55,0.65,\"#bf{10.6#it{GeV}} e+p#rightarrow e'+#gamma#gamma+#pi^{+}+X\")\n",
    "latex.DrawLatexNDC(0.55,0.61,\"CatBoost p(#gamma)>0.9\")\n",
    "latex.DrawLatexNDC(0.58,0.57,\"#bf{0.6 < z < 0.8}\")\n",
    "\n",
    "c.RedrawAxis()\n",
    "c.Draw()"
   ]
  },
  {
   "cell_type": "code",
   "execution_count": 18,
   "id": "forbidden-florist",
   "metadata": {},
   "outputs": [
    {
     "name": "stderr",
     "output_type": "stream",
     "text": [
      "Warning in <TROOT::Append>: Replacing existing TH1: h1 (Potential memory leak).\n",
      "Warning in <TROOT::Append>: Replacing existing TH1: h2 (Potential memory leak).\n",
      "Warning in <TROOT::Append>: Replacing existing TH1: h3 (Potential memory leak).\n",
      "Warning in <TCanvas::Constructor>: Deleting canvas with same name: c\n"
     ]
    },
    {
     "data": {
      "image/png": "[encoded data removed]",
      "text/plain": [
       "<IPython.core.display.Image object>"
      ]
     },
     "metadata": {},
     "output_type": "display_data"
    }
   ],
   "source": [
    "import ROOT\n",
    "ROOT.gStyle.SetHistLineWidth(2)\n",
    "ROOT.gStyle.SetOptStat(0)\n",
    "which=1\n",
    "zcut=\"z>0.8 && z < 1\"\n",
    "if(which==1):\n",
    "    text=\"pipluspi0\"\n",
    "else:\n",
    "    text=\"piminuspi0\"\n",
    "\n",
    "chain1 = ROOT.TChain(\"dihadron\")\n",
    "chain1.Add(f\"/volatile/clas12/users/gmat/clas12analysis.sidis.data/rga/ML/projects/{text}_prelim/catboost/postprocess/nSidis_50*.root\")\n",
    "h1 = ROOT.TH1F(\"h1\",f\"DATA {text} {zcut};W [GeV];arbitrary units\",100,1.8,5)\n",
    "chain1.Draw(\"W>>h1\",f\"prob_g1>0.9&&prob_g2>0.9&&Mh<2&&{zcut}\",\"goff\")\n",
    "\n",
    "chain2 = ROOT.TChain(\"dihadron\")\n",
    "chain2.Add(f\"/volatile/clas12/users/gmat/clas12analysis.sidis.data/rga/ML/projects/{text}_prelim/catboost/postprocess/MC_305*.root\")\n",
    "h2 = ROOT.TH1F(\"h2\",f\"MC {text} {zcut};W [GeV];arbitrary units\",100,1.8,5)\n",
    "chain2.Draw(\"trueW>>h2\",f\"MCmatch==1&&Mh<2&&{zcut}&&trueMx>0.938&&trueMx<0.940\",\"goff\")\n",
    "h3 = ROOT.TH1F(\"h3\",f\"MC {text} {zcut};W [GeV];arbitrary units\",100,1.8,5)\n",
    "chain2.Draw(\"trueW>>h3\",f\"MCmatch==1&&Mh<2&&{zcut}&&(trueMx<0.938||trueMx>0.940)\",\"goff\")\n",
    "h3.SetLineColor(2)\n",
    "h3.SetLineStyle(3)\n",
    "intMC=(h1.Integral()/h3.Integral())\n",
    "\n",
    "h2.Scale(intMC)\n",
    "h3.Scale(intMC)\n",
    "h2.SetLineColor(2)\n",
    "c=ROOT.TCanvas(\"c\",\"c\",500,500)\n",
    "h2.Draw(\"hist\")\n",
    "h1.Draw(\"hist same\")\n",
    "h3.Draw(\"hist same\")\n",
    "legend = ROOT.TLegend(0.5,0.75,0.88,0.88)\n",
    "legend.AddEntry(h1,\"Data\",\"l\")\n",
    "legend.AddEntry(h2,\"MC exclusive #rho^{+}\",\"l\")\n",
    "legend.AddEntry(h3,\"MC non-excl. #rho^{+}\",\"l\")\n",
    "legend.SetBorderSize(1)\n",
    "h1.GetYaxis().SetLabelSize(0)\n",
    "h2.GetYaxis().SetLabelSize(0)\n",
    "legend.Draw(\"same\")\n",
    "\n",
    "\n",
    "h1.SetTitle(\"\")\n",
    "h2.SetTitle(\"\")\n",
    "latex=ROOT.TLatex()\n",
    "latex.SetTextSize(0.03)\n",
    "latex.SetTextFont(42)\n",
    "latex.DrawLatexNDC(0.55,0.69,\"Fall 2018 Inbending Sample\")\n",
    "latex.DrawLatexNDC(0.55,0.65,\"#bf{10.6#it{GeV}} e+p#rightarrow e'+#gamma#gamma+#pi^{+}+X\")\n",
    "latex.DrawLatexNDC(0.55,0.61,\"CatBoost p(#gamma)>0.9\")\n",
    "latex.DrawLatexNDC(0.58,0.57,\"#bf{0.8 < z < 1.0}\")\n",
    "\n",
    "c.RedrawAxis()\n",
    "c.Draw()"
   ]
  },
  {
   "cell_type": "code",
   "execution_count": null,
   "id": "medieval-membership",
   "metadata": {},
   "outputs": [],
   "source": []
  }
 ],
 "metadata": {
  "kernelspec": {
   "display_name": "Python 3",
   "language": "python",
   "name": "python3"
  },
  "language_info": {
   "codemirror_mode": {
    "name": "ipython",
    "version": 3
   },
   "file_extension": ".py",
   "mimetype": "text/x-python",
   "name": "python",
   "nbconvert_exporter": "python",
   "pygments_lexer": "ipython3",
   "version": "3.8.6"
  }
 },
 "nbformat": 4,
 "nbformat_minor": 5
}
