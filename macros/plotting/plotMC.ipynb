{
 "cells": [
  {
   "cell_type": "code",
   "execution_count": 5,
   "id": "following-welsh",
   "metadata": {},
   "outputs": [],
   "source": [
    "from ROOT import TLorentzVector\n",
    "import uproot\n",
    "%run ../../src/kinematicsPlotter.ipynb\n",
    "PROJECT_NAME=\"pipluspi0_prelim\"\n",
    "MLmethod=\"catboost\"\n",
    "input_dir = \"/volatile/clas12/users/gmat/clas12analysis.sidis.data/rga/ML/projects/\"+PROJECT_NAME+\"/\"+MLmethod+\"/postprocess/\""
   ]
  },
  {
   "cell_type": "code",
   "execution_count": 88,
   "id": "muslim-chart",
   "metadata": {},
   "outputs": [],
   "source": [
    "_,_,_,_,mc_in,mc_out=get_tchains(input_dir,\"dihadron\",5)"
   ]
  },
  {
   "cell_type": "code",
   "execution_count": 40,
   "id": "cardiovascular-miracle",
   "metadata": {
    "jupyter": {
     "source_hidden": true
    }
   },
   "outputs": [
    {
     "ename": "AttributeError",
     "evalue": "'TChain' object has no attribute 'pid'",
     "output_type": "error",
     "traceback": [
      "\u001b[0;31m---------------------------------------------------------------------------\u001b[0m",
      "\u001b[0;31mAttributeError\u001b[0m                            Traceback (most recent call last)",
      "\u001b[0;32m<ipython-input-40-760b7260ba37>\u001b[0m in \u001b[0;36m<module>\u001b[0;34m\u001b[0m\n\u001b[1;32m      1\u001b[0m \u001b[0mM\u001b[0m\u001b[0;34m=\u001b[0m\u001b[0;34m[\u001b[0m\u001b[0;34m]\u001b[0m\u001b[0;34m\u001b[0m\u001b[0;34m\u001b[0m\u001b[0m\n\u001b[1;32m      2\u001b[0m \u001b[0;32mfor\u001b[0m \u001b[0mi\u001b[0m\u001b[0;34m,\u001b[0m\u001b[0miev\u001b[0m \u001b[0;32min\u001b[0m \u001b[0menumerate\u001b[0m\u001b[0;34m(\u001b[0m\u001b[0mmc_in\u001b[0m\u001b[0;34m)\u001b[0m\u001b[0;34m:\u001b[0m\u001b[0;34m\u001b[0m\u001b[0;34m\u001b[0m\u001b[0m\n\u001b[0;32m----> 3\u001b[0;31m     \u001b[0mpid\u001b[0m \u001b[0;34m=\u001b[0m \u001b[0mnp\u001b[0m\u001b[0;34m.\u001b[0m\u001b[0marray\u001b[0m\u001b[0;34m(\u001b[0m\u001b[0miev\u001b[0m\u001b[0;34m.\u001b[0m\u001b[0mpid\u001b[0m\u001b[0;34m,\u001b[0m\u001b[0mdtype\u001b[0m\u001b[0;34m=\u001b[0m\u001b[0mfloat\u001b[0m\u001b[0;34m)\u001b[0m\u001b[0;34m\u001b[0m\u001b[0;34m\u001b[0m\u001b[0m\n\u001b[0m\u001b[1;32m      4\u001b[0m     \u001b[0mtruepid\u001b[0m \u001b[0;34m=\u001b[0m \u001b[0mnp\u001b[0m\u001b[0;34m.\u001b[0m\u001b[0marray\u001b[0m\u001b[0;34m(\u001b[0m\u001b[0miev\u001b[0m\u001b[0;34m.\u001b[0m\u001b[0mtruepid\u001b[0m\u001b[0;34m,\u001b[0m\u001b[0mdtype\u001b[0m\u001b[0;34m=\u001b[0m\u001b[0mfloat\u001b[0m\u001b[0;34m)\u001b[0m\u001b[0;34m\u001b[0m\u001b[0;34m\u001b[0m\u001b[0m\n\u001b[1;32m      5\u001b[0m     \u001b[0mtrueparent_pid\u001b[0m \u001b[0;34m=\u001b[0m \u001b[0mnp\u001b[0m\u001b[0;34m.\u001b[0m\u001b[0marray\u001b[0m\u001b[0;34m(\u001b[0m\u001b[0miev\u001b[0m\u001b[0;34m.\u001b[0m\u001b[0mMCmatch_parent_pid\u001b[0m\u001b[0;34m,\u001b[0m\u001b[0mdtype\u001b[0m\u001b[0;34m=\u001b[0m\u001b[0mfloat\u001b[0m\u001b[0;34m)\u001b[0m\u001b[0;34m\u001b[0m\u001b[0;34m\u001b[0m\u001b[0m\n",
      "\u001b[0;31mAttributeError\u001b[0m: 'TChain' object has no attribute 'pid'"
     ]
    }
   ],
   "source": [
    "M=[]\n",
    "for i,iev in enumerate(mc_in):\n",
    "    pid = np.array(iev.pid,dtype=float)\n",
    "    truepid = np.array(iev.truepid,dtype=float)\n",
    "    trueparent_pid = np.array(iev.MCmatch_parent_pid,dtype=float)\n",
    "    trueparent_id = np.array(iev.MCmatch_parent_id,dtype=float)\n",
    "    px  = np.array(iev.px,dtype=float)\n",
    "    py  = np.array(iev.py,dtype=float)\n",
    "    pz  = np.array(iev.pz,dtype=float)\n",
    "    e   = np.array(iev.E,dtype=float)\n",
    "    \n",
    "    for j in range(len(pid)):\n",
    "        if(pid[j]!=22):\n",
    "            continue\n",
    "        pho1_fourvector = TLorentzVector()\n",
    "        pho1_fourvector.SetPxPyPzE(px[j], py[j], pz[j], e[j])\n",
    "        for k in range(j+1,len(pid)):\n",
    "            if(pid[k]!=22):\n",
    "                continue\n",
    "            pho2_fourvector = TLorentzVector()\n",
    "            pho2_fourvector.SetPxPyPzE(px[k], py[k], pz[k], e[k])\n",
    "            M.append((pho1_fourvector+pho2_fourvector).M())"
   ]
  },
  {
   "cell_type": "code",
   "execution_count": 89,
   "id": "premier-worst",
   "metadata": {},
   "outputs": [
    {
     "data": {
      "text/plain": [
       "1304904"
      ]
     },
     "execution_count": 89,
     "metadata": {},
     "output_type": "execute_result"
    },
    {
     "name": "stderr",
     "output_type": "stream",
     "text": [
      "Warning in <TCanvas::Constructor>: Deleting canvas with same name: c\n",
      "Warning in <TROOT::Append>: Replacing existing TH1: h0 (Potential memory leak).\n",
      "Warning in <TROOT::Append>: Replacing existing TH1: h1 (Potential memory leak).\n",
      "Warning in <TROOT::Append>: Replacing existing TH1: h2 (Potential memory leak).\n",
      "Warning in <TROOT::Append>: Replacing existing TH1: h3 (Potential memory leak).\n",
      "Warning in <TROOT::Append>: Replacing existing TH1: h4 (Potential memory leak).\n"
     ]
    }
   ],
   "source": [
    "c=ROOT.TCanvas(\"c\",\"c\",500,500)\n",
    "xmin,xmax,xbins=0.04,0.3,100\n",
    "h0=ROOT.TH1F(\"h0\",\";M_{#gamma#gamma}[GeV];\",xbins,xmin,xmax) \n",
    "h1=ROOT.TH1F(\"h1\",\";M_{#gamma#gamma}[GeV];\",xbins,xmin,xmax) \n",
    "h2=ROOT.TH1F(\"h2\",\";M_{#gamma#gamma}[GeV];\",xbins,xmin,xmax) \n",
    "h3=ROOT.TH1F(\"h3\",\";M_{#gamma#gamma}[GeV];\",xbins,xmin,xmax) \n",
    "h4=ROOT.TH1F(\"h4\",\";M_{#gamma#gamma}[GeV];\",xbins,xmin,xmax) \n",
    "mc_in.Draw(\"Mgg>>h0\",\"\",\"goff\")\n",
    "mc_in.Draw(\"Mgg>>h1\",\"truePi0==1\",\"goff\")\n",
    "mc_in.Draw(\"Mgg>>h2\",\"(truePi0==0)&&(trueparentpid_gamma1==111&&trueparentpid_gamma2==111)\",\"goff\")\n",
    "mc_in.Draw(\"Mgg>>h3\",\"(trueparentpid_gamma1==111&&trueparentpid_gamma2!=111)||((trueparentpid_gamma1!=111&&trueparentpid_gamma2==111))\",\"goff\")\n",
    "mc_in.Draw(\"Mgg>>h4\",\"(trueparentpid_gamma1!=111&&trueparentpid_gamma2!=111)\",\"goff\")"
   ]
  },
  {
   "cell_type": "code",
   "execution_count": 96,
   "id": "southeast-optimum",
   "metadata": {},
   "outputs": [
    {
     "data": {
      "image/png": "[encoded data removed]",
      "text/plain": [
       "<IPython.core.display.Image object>"
      ]
     },
     "metadata": {},
     "output_type": "display_data"
    }
   ],
   "source": [
    "\n",
    "ROOT.gStyle.SetHistLineWidth(2)\n",
    "h0.SetLineColor(1)\n",
    "h0.SetFillColor(ROOT.kYellow-8)\n",
    "h1.SetLineColor(ROOT.kBlue)\n",
    "h2.SetLineColor(ROOT.kGreen)\n",
    "h3.SetLineColor(ROOT.kMagenta)\n",
    "h4.SetLineColor(ROOT.kCyan)\n",
    "\n",
    "# Normalize the histograms\n",
    "h1.Scale(1/h0.Integral())\n",
    "h2.Scale(1/h0.Integral())\n",
    "h3.Scale(1/h0.Integral())\n",
    "h4.Scale(1/h0.Integral())\n",
    "h0.Scale(1/h0.Integral())\n",
    "\n",
    "\n",
    "h0.Draw(\"hist\")\n",
    "h1.Draw(\"hist same\")\n",
    "h2.Draw(\"hist same\")\n",
    "h3.Draw(\"hist same\")\n",
    "h4.Draw(\"hist same\")\n",
    "h0.GetYaxis().SetRangeUser(0,0.03)\n",
    "h0.GetYaxis().SetNdivisions(508)\n",
    "h0.GetYaxis().SetLabelSize(0)\n",
    "h0.GetYaxis().SetTitle(\"arbitrary units\")\n",
    "h0.GetXaxis().SetTitleSize(0.04)\n",
    "ROOT.gStyle.SetOptStat(0)\n",
    "c.SetGridy(1)\n",
    "c.RedrawAxis()\n",
    "legend=ROOT.TLegend(0.45,0.67,0.88,0.88)\n",
    "legend.AddEntry(h0,\"Total Spectrum\",\"f\")\n",
    "legend.AddEntry(h1,\"#gamma#gamma share #pi^{0} parent\",\"l\")\n",
    "legend.AddEntry(h2,\"#gamma#gamma have diff #pi^{0} parents\",\"l\")\n",
    "legend.AddEntry(h3,\"Single #gamma has #pi^{0} parent\",\"l\")\n",
    "legend.AddEntry(h4,\"Neither #gamma has #pi^{0} parent\",\"l\")\n",
    "legend.SetTextFont(42)\n",
    "legend.Draw(\"same\")\n",
    "\n",
    "latex=ROOT.TLatex()\n",
    "latex.SetTextSize(0.03)\n",
    "latex.SetTextFont(42)\n",
    "latex.DrawLatexNDC(0.5,0.595,\"Monte Carlo Inbending Sample\")\n",
    "latex.DrawLatexNDC(0.5,0.555,\"#bf{10.6#it{GeV}} e+p#rightarrow e'+#gamma#gamma+X\")\n",
    "latex.DrawLatexNDC(0.5,0.515,\"SIDIS cuts, PID purity cuts\")\n",
    "c.Draw()"
   ]
  },
  {
   "cell_type": "code",
   "execution_count": null,
   "id": "random-infrastructure",
   "metadata": {},
   "outputs": [],
   "source": []
  }
 ],
 "metadata": {
  "kernelspec": {
   "display_name": "Python 3",
   "language": "python",
   "name": "python3"
  },
  "language_info": {
   "codemirror_mode": {
    "name": "ipython",
    "version": 3
   },
   "file_extension": ".py",
   "mimetype": "text/x-python",
   "name": "python",
   "nbconvert_exporter": "python",
   "pygments_lexer": "ipython3",
   "version": "3.8.6"
  }
 },
 "nbformat": 4,
 "nbformat_minor": 5
}
