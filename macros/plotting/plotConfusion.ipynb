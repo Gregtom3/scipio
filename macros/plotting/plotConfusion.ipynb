{
 "cells": [
  {
   "cell_type": "code",
   "execution_count": 40,
   "id": "played-thermal",
   "metadata": {},
   "outputs": [],
   "source": [
    "%run ../../src/kinematicsPlotter.ipynb"
   ]
  },
  {
   "cell_type": "code",
   "execution_count": 36,
   "id": "specified-interference",
   "metadata": {},
   "outputs": [
    {
     "data": {
      "text/plain": [
       "['x',\n",
       " 'y',\n",
       " 'Q2',\n",
       " 'W',\n",
       " 'Mx',\n",
       " 'z',\n",
       " 'xF',\n",
       " 'Mgg',\n",
       " 'Mh',\n",
       " 'phiH',\n",
       " 'phiR',\n",
       " 'comTheta',\n",
       " 'Ee',\n",
       " 'Eg',\n",
       " 'Epiplus',\n",
       " 'thetae',\n",
       " 'thetag',\n",
       " 'thetapiplus',\n",
       " 'phie',\n",
       " 'phig',\n",
       " 'phipiplus',\n",
       " 'MggZoom']"
      ]
     },
     "execution_count": 36,
     "metadata": {},
     "output_type": "execute_result"
    }
   ],
   "source": [
    "# Below is a list of the current draw options\n",
    "draw_options()"
   ]
  },
  {
   "cell_type": "code",
   "execution_count": 42,
   "id": "annual-edward",
   "metadata": {},
   "outputs": [
    {
     "name": "stderr",
     "output_type": "stream",
     "text": [
      "Info in <TCanvas::Print>: pdf file ././plots_noresonance/ml_MC_inbending_threshold_0.495/c_mc_sigbg.pdf has been created\n",
      "Warning in <TCanvas::Constructor>: Deleting canvas with same name: c\n",
      "Info in <TCanvas::Print>: pdf file ././plots_noresonance/ml_MC_inbending_threshold_0.495/c_sigbg_w_pred.pdf has been created\n",
      "Warning in <TCanvas::Constructor>: Deleting canvas with same name: c\n",
      "Info in <TCanvas::Print>: pdf file ././plots_noresonance/ml_MC_inbending_threshold_0.495/c_confusion.pdf has been created\n",
      "Info in <TCanvas::Print>: pdf file ././plots_noresonance/ml_MC_inbending_threshold_0.495_Mgg>0.07&&Mgg<0.3/c_mc_sigbg.pdf has been created\n",
      "Warning in <TCanvas::Constructor>: Deleting canvas with same name: c\n",
      "Info in <TCanvas::Print>: pdf file ././plots_noresonance/ml_MC_inbending_threshold_0.495_Mgg>0.07&&Mgg<0.3/c_sigbg_w_pred.pdf has been created\n",
      "Warning in <TCanvas::Constructor>: Deleting canvas with same name: c\n",
      "Info in <TCanvas::Print>: pdf file ././plots_noresonance/ml_MC_inbending_threshold_0.495_Mgg>0.07&&Mgg<0.3/c_confusion.pdf has been created\n",
      "Info in <TCanvas::Print>: pdf file ././plots_noresonance/ml_MC_inbending_threshold_0.495_Mgg>0.07&&Mgg<0.18/c_mc_sigbg.pdf has been created\n",
      "Warning in <TCanvas::Constructor>: Deleting canvas with same name: c\n",
      "Info in <TCanvas::Print>: pdf file ././plots_noresonance/ml_MC_inbending_threshold_0.495_Mgg>0.07&&Mgg<0.18/c_sigbg_w_pred.pdf has been created\n",
      "Warning in <TCanvas::Constructor>: Deleting canvas with same name: c\n",
      "Info in <TCanvas::Print>: pdf file ././plots_noresonance/ml_MC_inbending_threshold_0.495_Mgg>0.07&&Mgg<0.18/c_confusion.pdf has been created\n",
      "Info in <TCanvas::Print>: pdf file ././plots_noresonance/ml_MC_inbending_threshold_0.9/c_mc_sigbg.pdf has been created\n",
      "Warning in <TCanvas::Constructor>: Deleting canvas with same name: c\n",
      "Info in <TCanvas::Print>: pdf file ././plots_noresonance/ml_MC_inbending_threshold_0.9/c_sigbg_w_pred.pdf has been created\n",
      "Warning in <TCanvas::Constructor>: Deleting canvas with same name: c\n",
      "Info in <TCanvas::Print>: pdf file ././plots_noresonance/ml_MC_inbending_threshold_0.9/c_confusion.pdf has been created\n",
      "Info in <TCanvas::Print>: pdf file ././plots_noresonance/ml_MC_inbending_threshold_0.9_Mgg>0.07&&Mgg<0.3/c_mc_sigbg.pdf has been created\n",
      "Warning in <TCanvas::Constructor>: Deleting canvas with same name: c\n",
      "Info in <TCanvas::Print>: pdf file ././plots_noresonance/ml_MC_inbending_threshold_0.9_Mgg>0.07&&Mgg<0.3/c_sigbg_w_pred.pdf has been created\n",
      "Warning in <TCanvas::Constructor>: Deleting canvas with same name: c\n",
      "Info in <TCanvas::Print>: pdf file ././plots_noresonance/ml_MC_inbending_threshold_0.9_Mgg>0.07&&Mgg<0.3/c_confusion.pdf has been created\n",
      "Info in <TCanvas::Print>: pdf file ././plots_noresonance/ml_MC_inbending_threshold_0.9_Mgg>0.07&&Mgg<0.18/c_mc_sigbg.pdf has been created\n",
      "Warning in <TCanvas::Constructor>: Deleting canvas with same name: c\n",
      "Info in <TCanvas::Print>: pdf file ././plots_noresonance/ml_MC_inbending_threshold_0.9_Mgg>0.07&&Mgg<0.18/c_sigbg_w_pred.pdf has been created\n",
      "Warning in <TCanvas::Constructor>: Deleting canvas with same name: c\n",
      "Info in <TCanvas::Print>: pdf file ././plots_noresonance/ml_MC_inbending_threshold_0.9_Mgg>0.07&&Mgg<0.18/c_confusion.pdf has been created\n",
      "Info in <TCanvas::Print>: pdf file ././plots_noresonance/ml_MC_inbending_threshold_0.95/c_mc_sigbg.pdf has been created\n",
      "Warning in <TCanvas::Constructor>: Deleting canvas with same name: c\n",
      "Info in <TCanvas::Print>: pdf file ././plots_noresonance/ml_MC_inbending_threshold_0.95/c_sigbg_w_pred.pdf has been created\n",
      "Warning in <TCanvas::Constructor>: Deleting canvas with same name: c\n",
      "Info in <TCanvas::Print>: pdf file ././plots_noresonance/ml_MC_inbending_threshold_0.95/c_confusion.pdf has been created\n",
      "Info in <TCanvas::Print>: pdf file ././plots_noresonance/ml_MC_inbending_threshold_0.95_Mgg>0.07&&Mgg<0.3/c_mc_sigbg.pdf has been created\n",
      "Warning in <TCanvas::Constructor>: Deleting canvas with same name: c\n",
      "Info in <TCanvas::Print>: pdf file ././plots_noresonance/ml_MC_inbending_threshold_0.95_Mgg>0.07&&Mgg<0.3/c_sigbg_w_pred.pdf has been created\n",
      "Warning in <TCanvas::Constructor>: Deleting canvas with same name: c\n",
      "Info in <TCanvas::Print>: pdf file ././plots_noresonance/ml_MC_inbending_threshold_0.95_Mgg>0.07&&Mgg<0.3/c_confusion.pdf has been created\n",
      "Info in <TCanvas::Print>: pdf file ././plots_noresonance/ml_MC_inbending_threshold_0.95_Mgg>0.07&&Mgg<0.18/c_mc_sigbg.pdf has been created\n",
      "Warning in <TCanvas::Constructor>: Deleting canvas with same name: c\n",
      "Info in <TCanvas::Print>: pdf file ././plots_noresonance/ml_MC_inbending_threshold_0.95_Mgg>0.07&&Mgg<0.18/c_sigbg_w_pred.pdf has been created\n",
      "Warning in <TCanvas::Constructor>: Deleting canvas with same name: c\n",
      "Info in <TCanvas::Print>: pdf file ././plots_noresonance/ml_MC_inbending_threshold_0.95_Mgg>0.07&&Mgg<0.18/c_confusion.pdf has been created\n",
      "Info in <TCanvas::Print>: pdf file ././plots_noresonance/ml_MC_outbending_threshold_0.495/c_mc_sigbg.pdf has been created\n",
      "Warning in <TCanvas::Constructor>: Deleting canvas with same name: c\n",
      "Info in <TCanvas::Print>: pdf file ././plots_noresonance/ml_MC_outbending_threshold_0.495/c_sigbg_w_pred.pdf has been created\n",
      "Warning in <TCanvas::Constructor>: Deleting canvas with same name: c\n",
      "Info in <TCanvas::Print>: pdf file ././plots_noresonance/ml_MC_outbending_threshold_0.495/c_confusion.pdf has been created\n",
      "Info in <TCanvas::Print>: pdf file ././plots_noresonance/ml_MC_outbending_threshold_0.495_Mgg>0.07&&Mgg<0.3/c_mc_sigbg.pdf has been created\n",
      "Warning in <TCanvas::Constructor>: Deleting canvas with same name: c\n",
      "Info in <TCanvas::Print>: pdf file ././plots_noresonance/ml_MC_outbending_threshold_0.495_Mgg>0.07&&Mgg<0.3/c_sigbg_w_pred.pdf has been created\n",
      "Warning in <TCanvas::Constructor>: Deleting canvas with same name: c\n",
      "Info in <TCanvas::Print>: pdf file ././plots_noresonance/ml_MC_outbending_threshold_0.495_Mgg>0.07&&Mgg<0.3/c_confusion.pdf has been created\n",
      "Info in <TCanvas::Print>: pdf file ././plots_noresonance/ml_MC_outbending_threshold_0.495_Mgg>0.07&&Mgg<0.18/c_mc_sigbg.pdf has been created\n",
      "Warning in <TCanvas::Constructor>: Deleting canvas with same name: c\n",
      "Info in <TCanvas::Print>: pdf file ././plots_noresonance/ml_MC_outbending_threshold_0.495_Mgg>0.07&&Mgg<0.18/c_sigbg_w_pred.pdf has been created\n",
      "Warning in <TCanvas::Constructor>: Deleting canvas with same name: c\n",
      "Info in <TCanvas::Print>: pdf file ././plots_noresonance/ml_MC_outbending_threshold_0.495_Mgg>0.07&&Mgg<0.18/c_confusion.pdf has been created\n",
      "Info in <TCanvas::Print>: pdf file ././plots_noresonance/ml_MC_outbending_threshold_0.9/c_mc_sigbg.pdf has been created\n",
      "Warning in <TCanvas::Constructor>: Deleting canvas with same name: c\n",
      "Info in <TCanvas::Print>: pdf file ././plots_noresonance/ml_MC_outbending_threshold_0.9/c_sigbg_w_pred.pdf has been created\n",
      "Warning in <TCanvas::Constructor>: Deleting canvas with same name: c\n",
      "Info in <TCanvas::Print>: pdf file ././plots_noresonance/ml_MC_outbending_threshold_0.9/c_confusion.pdf has been created\n",
      "Info in <TCanvas::Print>: pdf file ././plots_noresonance/ml_MC_outbending_threshold_0.9_Mgg>0.07&&Mgg<0.3/c_mc_sigbg.pdf has been created\n",
      "Warning in <TCanvas::Constructor>: Deleting canvas with same name: c\n",
      "Info in <TCanvas::Print>: pdf file ././plots_noresonance/ml_MC_outbending_threshold_0.9_Mgg>0.07&&Mgg<0.3/c_sigbg_w_pred.pdf has been created\n",
      "Warning in <TCanvas::Constructor>: Deleting canvas with same name: c\n",
      "Info in <TCanvas::Print>: pdf file ././plots_noresonance/ml_MC_outbending_threshold_0.9_Mgg>0.07&&Mgg<0.3/c_confusion.pdf has been created\n",
      "Info in <TCanvas::Print>: pdf file ././plots_noresonance/ml_MC_outbending_threshold_0.9_Mgg>0.07&&Mgg<0.18/c_mc_sigbg.pdf has been created\n",
      "Warning in <TCanvas::Constructor>: Deleting canvas with same name: c\n",
      "Info in <TCanvas::Print>: pdf file ././plots_noresonance/ml_MC_outbending_threshold_0.9_Mgg>0.07&&Mgg<0.18/c_sigbg_w_pred.pdf has been created\n",
      "Warning in <TCanvas::Constructor>: Deleting canvas with same name: c\n",
      "Info in <TCanvas::Print>: pdf file ././plots_noresonance/ml_MC_outbending_threshold_0.9_Mgg>0.07&&Mgg<0.18/c_confusion.pdf has been created\n",
      "Info in <TCanvas::Print>: pdf file ././plots_noresonance/ml_MC_outbending_threshold_0.95/c_mc_sigbg.pdf has been created\n",
      "Warning in <TCanvas::Constructor>: Deleting canvas with same name: c\n",
      "Info in <TCanvas::Print>: pdf file ././plots_noresonance/ml_MC_outbending_threshold_0.95/c_sigbg_w_pred.pdf has been created\n",
      "Warning in <TCanvas::Constructor>: Deleting canvas with same name: c\n",
      "Info in <TCanvas::Print>: pdf file ././plots_noresonance/ml_MC_outbending_threshold_0.95/c_confusion.pdf has been created\n",
      "Info in <TCanvas::Print>: pdf file ././plots_noresonance/ml_MC_outbending_threshold_0.95_Mgg>0.07&&Mgg<0.3/c_mc_sigbg.pdf has been created\n",
      "Warning in <TCanvas::Constructor>: Deleting canvas with same name: c\n",
      "Info in <TCanvas::Print>: pdf file ././plots_noresonance/ml_MC_outbending_threshold_0.95_Mgg>0.07&&Mgg<0.3/c_sigbg_w_pred.pdf has been created\n",
      "Warning in <TCanvas::Constructor>: Deleting canvas with same name: c\n",
      "Info in <TCanvas::Print>: pdf file ././plots_noresonance/ml_MC_outbending_threshold_0.95_Mgg>0.07&&Mgg<0.3/c_confusion.pdf has been created\n",
      "Info in <TCanvas::Print>: pdf file ././plots_noresonance/ml_MC_outbending_threshold_0.95_Mgg>0.07&&Mgg<0.18/c_mc_sigbg.pdf has been created\n",
      "Warning in <TCanvas::Constructor>: Deleting canvas with same name: c\n",
      "Info in <TCanvas::Print>: pdf file ././plots_noresonance/ml_MC_outbending_threshold_0.95_Mgg>0.07&&Mgg<0.18/c_sigbg_w_pred.pdf has been created\n",
      "Warning in <TCanvas::Constructor>: Deleting canvas with same name: c\n",
      "Info in <TCanvas::Print>: pdf file ././plots_noresonance/ml_MC_outbending_threshold_0.95_Mgg>0.07&&Mgg<0.18/c_confusion.pdf has been created\n"
     ]
    }
   ],
   "source": [
    "for v in [\"MC_inbending\",\"MC_outbending\"]:\n",
    "    for threshold in [0.495,0.9,0.95]:\n",
    "        make_ml_plots(v,[\"x\",\"y\",\"Q2\",\"z\",\n",
    "                                  \"Eg\",\"thetag\",\"phig\",\"Mgg\",\n",
    "                                  \"Mh\",\"phiH\",\"phiR\",\"comTheta\"],threshold)\n",
    "        make_ml_plots(v,[\"x\",\"Q2\",\"z\",\"MggZoom\",\n",
    "                                  \"Mh\",\"phiH\",\"phiR\",\"comTheta\"],threshold,\n",
    "                                     extracut=\"Mgg>0.07&&Mgg<0.3\")\n",
    "        make_ml_plots(v,[\"x\",\"Q2\",\"z\",\"MggZoom\",\n",
    "                                  \"Mh\",\"phiH\",\"phiR\",\"comTheta\"],threshold,\n",
    "                                     extracut=\"Mgg>0.07&&Mgg<0.18\")"
   ]
  },
  {
   "cell_type": "code",
   "execution_count": null,
   "id": "weekly-nashville",
   "metadata": {},
   "outputs": [],
   "source": []
  }
 ],
 "metadata": {
  "kernelspec": {
   "display_name": "Python 3",
   "language": "python",
   "name": "python3"
  },
  "language_info": {
   "codemirror_mode": {
    "name": "ipython",
    "version": 3
   },
   "file_extension": ".py",
   "mimetype": "text/x-python",
   "name": "python",
   "nbconvert_exporter": "python",
   "pygments_lexer": "ipython3",
   "version": "3.8.6"
  }
 },
 "nbformat": 4,
 "nbformat_minor": 5
}
