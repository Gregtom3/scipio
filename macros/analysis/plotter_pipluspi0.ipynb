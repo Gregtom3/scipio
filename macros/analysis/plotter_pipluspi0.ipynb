{
 "cells": [
  {
   "cell_type": "code",
   "execution_count": null,
   "id": "otherwise-underground",
   "metadata": {},
   "outputs": [],
   "source": [
    "%run ../../src/kinematicsPlotter.ipynb"
   ]
  },
  {
   "cell_type": "code",
   "execution_count": null,
   "id": "rocky-bridge",
   "metadata": {},
   "outputs": [],
   "source": [
    "postprocess_dir = \"/volatile/clas12/users/gmat/clas12analysis.sidis.data/rga/ML/catboost/postprocess_pipluspi0/\""
   ]
  },
  {
   "cell_type": "code",
   "execution_count": null,
   "id": "great-regulation",
   "metadata": {},
   "outputs": [],
   "source": [
    "make_plots(\"Fall2018_inbending\")"
   ]
  },
  {
   "cell_type": "code",
   "execution_count": 50,
   "id": "impressed-score",
   "metadata": {},
   "outputs": [],
   "source": []
  },
  {
   "cell_type": "code",
   "execution_count": 51,
   "id": "desperate-aluminum",
   "metadata": {},
   "outputs": [],
   "source": [
    "a,b=get_modulations(2)"
   ]
  },
  {
   "cell_type": "code",
   "execution_count": 54,
   "id": "smoking-cleaners",
   "metadata": {},
   "outputs": [
    {
     "data": {
      "text/plain": [
       "'\\\\'"
      ]
     },
     "execution_count": 54,
     "metadata": {},
     "output_type": "execute_result"
    }
   ],
   "source": []
  },
  {
   "cell_type": "code",
   "execution_count": null,
   "id": "opposed-avenue",
   "metadata": {},
   "outputs": [],
   "source": []
  }
 ],
 "metadata": {
  "kernelspec": {
   "display_name": "Python 3",
   "language": "python",
   "name": "python3"
  },
  "language_info": {
   "codemirror_mode": {
    "name": "ipython",
    "version": 3
   },
   "file_extension": ".py",
   "mimetype": "text/x-python",
   "name": "python",
   "nbconvert_exporter": "python",
   "pygments_lexer": "ipython3",
   "version": "3.8.6"
  }
 },
 "nbformat": 4,
 "nbformat_minor": 5
}
