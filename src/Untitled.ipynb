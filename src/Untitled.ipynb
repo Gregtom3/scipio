{
 "cells": [
  {
   "cell_type": "code",
   "execution_count": 1,
   "id": "enhanced-league",
   "metadata": {},
   "outputs": [
    {
     "name": "stdout",
     "output_type": "stream",
     "text": [
      "Welcome to JupyROOT 6.22/06\n"
     ]
    }
   ],
   "source": [
    "import ROOT"
   ]
  },
  {
   "cell_type": "code",
   "execution_count": 2,
   "id": "statewide-grill",
   "metadata": {},
   "outputs": [],
   "source": [
    "f = ROOT.TFile(\"/volatile/clas12/users/gmat/clas12analysis.sidis.data/rga/ML/projects/pipluspi0_prelim/catboost/postprocess_binned/test2d/nSidis_x_Mh_binned.root\")"
   ]
  },
  {
   "cell_type": "code",
   "execution_count": null,
   "id": "broken-cleaning",
   "metadata": {},
   "outputs": [],
   "source": [
    "f.ls()"
   ]
  },
  {
   "cell_type": "code",
   "execution_count": 3,
   "id": "bigger-seventh",
   "metadata": {},
   "outputs": [],
   "source": [
    "t = f.Get(\"x_0.160000_0.190000_Mh_0.500000_0.900000\")"
   ]
  },
  {
   "cell_type": "code",
   "execution_count": 4,
   "id": "criminal-percentage",
   "metadata": {},
   "outputs": [
    {
     "name": "stdout",
     "output_type": "stream",
     "text": [
      "CPU times: user 570 ms, sys: 55.9 ms, total: 626 ms\n",
      "Wall time: 1.81 s\n"
     ]
    },
    {
     "data": {
      "text/plain": [
       "424221"
      ]
     },
     "execution_count": 4,
     "metadata": {},
     "output_type": "execute_result"
    },
    {
     "name": "stderr",
     "output_type": "stream",
     "text": [
      "Info in <TCanvas::MakeDefCanvas>:  created default TCanvas with name c1\n"
     ]
    }
   ],
   "source": [
    "%%time\n",
    "t.Draw(\"eE\",\"isGoodEventWithoutML\")"
   ]
  },
  {
   "cell_type": "code",
   "execution_count": 18,
   "id": "capable-belief",
   "metadata": {},
   "outputs": [
    {
     "name": "stderr",
     "output_type": "stream",
     "text": [
      " outer:   0%|                                            | 0/5 [00:00<?, ?it/s]\n",
      " inner loop:   0%|                                      | 0/10 [00:00<?, ?it/s]\u001b[A\n",
      " inner loop:  20%|██████                        | 2/10 [00:00<00:00, 19.91it/s]\u001b[A\n",
      " inner loop:  40%|████████████                  | 4/10 [00:00<00:00, 19.58it/s]\u001b[A\n",
      " inner loop:  60%|██████████████████            | 6/10 [00:00<00:00, 19.40it/s]\u001b[A\n",
      " inner loop:  80%|████████████████████████      | 8/10 [00:00<00:00, 19.35it/s]\u001b[A\n",
      " inner loop: 100%|█████████████████████████████| 10/10 [00:00<00:00, 19.34it/s]\u001b[A\n",
      " outer:  20%|███████▏                            | 1/5 [00:00<00:02,  1.91it/s]\u001b[A\n",
      " inner loop:   0%|                                      | 0/20 [00:00<?, ?it/s]\u001b[A\n",
      " inner loop:  10%|███                           | 2/20 [00:00<00:00, 19.91it/s]\u001b[A\n",
      " inner loop:  20%|██████                        | 4/20 [00:00<00:00, 19.58it/s]\u001b[A\n",
      " inner loop:  30%|█████████                     | 6/20 [00:00<00:00, 19.48it/s]\u001b[A\n",
      " inner loop:  40%|████████████                  | 8/20 [00:00<00:00, 19.44it/s]\u001b[A\n",
      " inner loop:  50%|██████████████▌              | 10/20 [00:00<00:00, 19.40it/s]\u001b[A\n",
      " inner loop:  60%|█████████████████▍           | 12/20 [00:00<00:00, 19.39it/s]\u001b[A\n",
      " inner loop:  70%|████████████████████▎        | 14/20 [00:00<00:00, 19.33it/s]\u001b[A\n",
      " inner loop:  80%|███████████████████████▏     | 16/20 [00:00<00:00, 19.30it/s]\u001b[A\n",
      " inner loop:  90%|██████████████████████████   | 18/20 [00:00<00:00, 19.27it/s]\u001b[A\n",
      " inner loop: 100%|█████████████████████████████| 20/20 [00:01<00:00, 19.25it/s]\u001b[A\n",
      " outer:  40%|██████████████▍                     | 2/5 [00:01<00:02,  1.20it/s]\u001b[A\n",
      " inner loop:   0%|                                      | 0/30 [00:00<?, ?it/s]\u001b[A\n",
      " inner loop:   7%|██                            | 2/30 [00:00<00:01, 19.94it/s]\u001b[A\n",
      " inner loop:  13%|████                          | 4/30 [00:00<00:01, 19.58it/s]\u001b[A\n",
      " inner loop:  20%|██████                        | 6/30 [00:00<00:01, 19.48it/s]\u001b[A\n",
      " inner loop:  27%|████████                      | 8/30 [00:00<00:01, 19.43it/s]\u001b[A\n",
      " inner loop:  33%|█████████▋                   | 10/30 [00:00<00:01, 19.42it/s]\u001b[A\n",
      " inner loop:  40%|███████████▌                 | 12/30 [00:00<00:00, 19.41it/s]\u001b[A\n",
      " inner loop:  47%|█████████████▌               | 14/30 [00:00<00:00, 19.39it/s]\u001b[A\n",
      " inner loop:  53%|███████████████▍             | 16/30 [00:00<00:00, 19.41it/s]\u001b[A\n",
      " inner loop:  60%|█████████████████▍           | 18/30 [00:00<00:00, 19.40it/s]\u001b[A\n",
      " inner loop:  67%|███████████████████▎         | 20/30 [00:01<00:00, 19.39it/s]\u001b[A\n",
      " inner loop:  73%|█████████████████████▎       | 22/30 [00:01<00:00, 19.38it/s]\u001b[A\n",
      " inner loop:  80%|███████████████████████▏     | 24/30 [00:01<00:00, 19.39it/s]\u001b[A\n",
      " inner loop:  87%|█████████████████████████▏   | 26/30 [00:01<00:00, 19.39it/s]\u001b[A\n",
      " inner loop:  93%|███████████████████████████  | 28/30 [00:01<00:00, 19.39it/s]\u001b[A\n",
      " inner loop: 100%|█████████████████████████████| 30/30 [00:01<00:00, 19.39it/s]\u001b[A\n",
      " outer:  60%|█████████████████████▌              | 3/5 [00:03<00:02,  1.16s/it]\u001b[A\n",
      " inner loop:   0%|                                      | 0/40 [00:00<?, ?it/s]\u001b[A\n",
      " inner loop:   5%|█▌                            | 2/40 [00:00<00:01, 19.92it/s]\u001b[A\n",
      " inner loop:  10%|███                           | 4/40 [00:00<00:01, 19.63it/s]\u001b[A\n",
      " inner loop:  15%|████▌                         | 6/40 [00:00<00:01, 19.49it/s]\u001b[A\n",
      " inner loop:  20%|██████                        | 8/40 [00:00<00:01, 19.45it/s]\u001b[A\n",
      " inner loop:  25%|███████▎                     | 10/40 [00:00<00:01, 19.43it/s]\u001b[A\n",
      " inner loop:  30%|████████▋                    | 12/40 [00:00<00:01, 19.41it/s]\u001b[A\n",
      " inner loop:  35%|██████████▏                  | 14/40 [00:00<00:01, 19.42it/s]\u001b[A\n",
      " inner loop:  40%|███████████▌                 | 16/40 [00:00<00:01, 19.40it/s]\u001b[A\n",
      " inner loop:  45%|█████████████                | 18/40 [00:00<00:01, 19.37it/s]\u001b[A\n",
      " inner loop:  50%|██████████████▌              | 20/40 [00:01<00:01, 19.36it/s]\u001b[A\n",
      " inner loop:  55%|███████████████▉             | 22/40 [00:01<00:00, 19.38it/s]\u001b[A\n",
      " inner loop:  60%|█████████████████▍           | 24/40 [00:01<00:00, 19.39it/s]\u001b[A\n",
      " inner loop:  65%|██████████████████▊          | 26/40 [00:01<00:00, 19.36it/s]\u001b[A\n",
      " inner loop:  70%|████████████████████▎        | 28/40 [00:01<00:00, 19.36it/s]\u001b[A\n",
      " inner loop:  75%|█████████████████████▊       | 30/40 [00:01<00:00, 19.35it/s]\u001b[A\n",
      " inner loop:  80%|███████████████████████▏     | 32/40 [00:01<00:00, 19.33it/s]\u001b[A\n",
      " inner loop:  85%|████████████████████████▋    | 34/40 [00:01<00:00, 19.35it/s]\u001b[A\n",
      " inner loop:  90%|██████████████████████████   | 36/40 [00:01<00:00, 19.36it/s]\u001b[A\n",
      " inner loop:  95%|███████████████████████████▌ | 38/40 [00:01<00:00, 19.38it/s]\u001b[A\n",
      " inner loop: 100%|█████████████████████████████| 40/40 [00:02<00:00, 19.37it/s]\u001b[A\n",
      " outer:  80%|████████████████████████████▊       | 4/5 [00:05<00:01,  1.52s/it]\u001b[A\n",
      " inner loop:   0%|                                      | 0/50 [00:00<?, ?it/s]\u001b[A\n",
      " outer:  80%|████████████████████████████▊       | 4/5 [00:05<00:01,  1.30s/it]\u001b[A\n"
     ]
    },
    {
     "ename": "KeyboardInterrupt",
     "evalue": "",
     "output_type": "error",
     "traceback": [
      "\u001b[0;31m---------------------------------------------------------------------------\u001b[0m",
      "\u001b[0;31mKeyboardInterrupt\u001b[0m                         Traceback (most recent call last)",
      "\u001b[0;32m<ipython-input-18-1376a308b29a>\u001b[0m in \u001b[0;36m<module>\u001b[0;34m\u001b[0m\n\u001b[1;32m      4\u001b[0m \u001b[0;32mfor\u001b[0m \u001b[0mouter\u001b[0m \u001b[0;32min\u001b[0m \u001b[0mtqdm\u001b[0m\u001b[0;34m.\u001b[0m\u001b[0mtqdm\u001b[0m\u001b[0;34m(\u001b[0m\u001b[0;34m[\u001b[0m\u001b[0;36m10\u001b[0m\u001b[0;34m,\u001b[0m \u001b[0;36m20\u001b[0m\u001b[0;34m,\u001b[0m \u001b[0;36m30\u001b[0m\u001b[0;34m,\u001b[0m \u001b[0;36m40\u001b[0m\u001b[0;34m,\u001b[0m \u001b[0;36m50\u001b[0m\u001b[0;34m]\u001b[0m\u001b[0;34m,\u001b[0m \u001b[0mdesc\u001b[0m\u001b[0;34m=\u001b[0m\u001b[0;34m\" outer\"\u001b[0m\u001b[0;34m,\u001b[0m \u001b[0mposition\u001b[0m\u001b[0;34m=\u001b[0m\u001b[0;36m0\u001b[0m\u001b[0;34m)\u001b[0m\u001b[0;34m:\u001b[0m\u001b[0;34m\u001b[0m\u001b[0;34m\u001b[0m\u001b[0m\n\u001b[1;32m      5\u001b[0m     \u001b[0;32mfor\u001b[0m \u001b[0minner\u001b[0m \u001b[0;32min\u001b[0m \u001b[0mtqdm\u001b[0m\u001b[0;34m.\u001b[0m\u001b[0mtqdm\u001b[0m\u001b[0;34m(\u001b[0m\u001b[0mrange\u001b[0m\u001b[0;34m(\u001b[0m\u001b[0mouter\u001b[0m\u001b[0;34m)\u001b[0m\u001b[0;34m,\u001b[0m \u001b[0mdesc\u001b[0m\u001b[0;34m=\u001b[0m\u001b[0;34m\" inner loop\"\u001b[0m\u001b[0;34m,\u001b[0m \u001b[0mposition\u001b[0m\u001b[0;34m=\u001b[0m\u001b[0;36m1\u001b[0m\u001b[0;34m,\u001b[0m \u001b[0mleave\u001b[0m\u001b[0;34m=\u001b[0m\u001b[0;32mFalse\u001b[0m\u001b[0;34m)\u001b[0m\u001b[0;34m:\u001b[0m\u001b[0;34m\u001b[0m\u001b[0;34m\u001b[0m\u001b[0m\n\u001b[0;32m----> 6\u001b[0;31m         \u001b[0mtime\u001b[0m\u001b[0;34m.\u001b[0m\u001b[0msleep\u001b[0m\u001b[0;34m(\u001b[0m\u001b[0;36m0.05\u001b[0m\u001b[0;34m)\u001b[0m\u001b[0;34m\u001b[0m\u001b[0;34m\u001b[0m\u001b[0m\n\u001b[0m\u001b[1;32m      7\u001b[0m \u001b[0mprint\u001b[0m\u001b[0;34m(\u001b[0m\u001b[0;34m\"done!\"\u001b[0m\u001b[0;34m)\u001b[0m\u001b[0;34m\u001b[0m\u001b[0;34m\u001b[0m\u001b[0m\n",
      "\u001b[0;31mKeyboardInterrupt\u001b[0m: "
     ]
    },
    {
     "name": "stdout",
     "output_type": "stream",
     "text": [
      "Error in callback <bound method StreamCapture.post_execute of <JupyROOT.helpers.utils.StreamCapture object at 0x7f554dae07c0>> (for post_execute):\n"
     ]
    },
    {
     "ename": "KeyboardInterrupt",
     "evalue": "",
     "output_type": "error",
     "traceback": [
      "\u001b[0;31m---------------------------------------------------------------------------\u001b[0m",
      "\u001b[0;31mKeyboardInterrupt\u001b[0m                         Traceback (most recent call last)",
      "\u001b[0;32m/opt/root/lib/JupyROOT/helpers/utils.py\u001b[0m in \u001b[0;36mpost_execute\u001b[0;34m(self)\u001b[0m\n\u001b[1;32m    335\u001b[0m             \u001b[0;32mreturn\u001b[0m \u001b[0;36m0\u001b[0m\u001b[0;34m\u001b[0m\u001b[0;34m\u001b[0m\u001b[0m\n\u001b[1;32m    336\u001b[0m         \u001b[0mself\u001b[0m\u001b[0;34m.\u001b[0m\u001b[0mflag\u001b[0m \u001b[0;34m=\u001b[0m \u001b[0;32mFalse\u001b[0m\u001b[0;34m\u001b[0m\u001b[0;34m\u001b[0m\u001b[0m\n\u001b[0;32m--> 337\u001b[0;31m         \u001b[0mself\u001b[0m\u001b[0;34m.\u001b[0m\u001b[0masyncCapturer\u001b[0m\u001b[0;34m.\u001b[0m\u001b[0mWait\u001b[0m\u001b[0;34m(\u001b[0m\u001b[0;34m)\u001b[0m\u001b[0;34m\u001b[0m\u001b[0;34m\u001b[0m\u001b[0m\n\u001b[0m\u001b[1;32m    338\u001b[0m         \u001b[0mself\u001b[0m\u001b[0;34m.\u001b[0m\u001b[0mioHandler\u001b[0m\u001b[0;34m.\u001b[0m\u001b[0mPoll\u001b[0m\u001b[0;34m(\u001b[0m\u001b[0;34m)\u001b[0m\u001b[0;34m\u001b[0m\u001b[0;34m\u001b[0m\u001b[0m\n\u001b[1;32m    339\u001b[0m         \u001b[0mself\u001b[0m\u001b[0;34m.\u001b[0m\u001b[0mioHandler\u001b[0m\u001b[0;34m.\u001b[0m\u001b[0mEndCapture\u001b[0m\u001b[0;34m(\u001b[0m\u001b[0;34m)\u001b[0m\u001b[0;34m\u001b[0m\u001b[0;34m\u001b[0m\u001b[0m\n",
      "\u001b[0;32m/opt/root/lib/JupyROOT/helpers/handlers.py\u001b[0m in \u001b[0;36mWait\u001b[0;34m(self)\u001b[0m\n\u001b[1;32m    132\u001b[0m     \u001b[0;32mdef\u001b[0m \u001b[0mWait\u001b[0m\u001b[0;34m(\u001b[0m\u001b[0mself\u001b[0m\u001b[0;34m)\u001b[0m\u001b[0;34m:\u001b[0m\u001b[0;34m\u001b[0m\u001b[0;34m\u001b[0m\u001b[0m\n\u001b[1;32m    133\u001b[0m         \u001b[0;32mwhile\u001b[0m \u001b[0mself\u001b[0m\u001b[0;34m.\u001b[0m\u001b[0mpoller\u001b[0m\u001b[0;34m.\u001b[0m\u001b[0mis_running\u001b[0m\u001b[0;34m:\u001b[0m\u001b[0;34m\u001b[0m\u001b[0;34m\u001b[0m\u001b[0m\n\u001b[0;32m--> 134\u001b[0;31m             \u001b[0mtimeSleep\u001b[0m\u001b[0;34m(\u001b[0m\u001b[0;36m.1\u001b[0m\u001b[0;34m)\u001b[0m\u001b[0;34m\u001b[0m\u001b[0;34m\u001b[0m\u001b[0m\n\u001b[0m\u001b[1;32m    135\u001b[0m \u001b[0;34m\u001b[0m\u001b[0m\n\u001b[1;32m    136\u001b[0m     \u001b[0;32mdef\u001b[0m \u001b[0mHasFinished\u001b[0m\u001b[0;34m(\u001b[0m\u001b[0mself\u001b[0m\u001b[0;34m)\u001b[0m\u001b[0;34m:\u001b[0m\u001b[0;34m\u001b[0m\u001b[0;34m\u001b[0m\u001b[0m\n",
      "\u001b[0;31mKeyboardInterrupt\u001b[0m: "
     ]
    }
   ],
   "source": [
    "import time\n",
    "import tqdm\n",
    "\n",
    "for outer in tqdm.tqdm([10, 20, 30, 40, 50], desc=\" outer\", position=0):\n",
    "    for inner in tqdm.tqdm(range(outer), desc=\" inner loop\", position=1, leave=False):\n",
    "        time.sleep(0.05)\n",
    "print(\"done!\")"
   ]
  },
  {
   "cell_type": "code",
   "execution_count": 22,
   "id": "reverse-survivor",
   "metadata": {},
   "outputs": [
    {
     "name": "stderr",
     "output_type": "stream",
     "text": [
      "100%|██████████████████████████████████| 1500/1500 [00:00<00:00, 615843.38it/s]\n",
      "100%|██████████████████████████████████| 1500/1500 [00:00<00:00, 533174.24it/s]\n",
      "100%|██████████████████████████████████| 1500/1500 [00:00<00:00, 651424.31it/s]\n"
     ]
    }
   ],
   "source": [
    "from tqdm import tqdm\n",
    "import time\n",
    "n = 5\n",
    "m = 300\n",
    "for a in range(3):\n",
    "    with tqdm(total=n * m) as pbar:\n",
    "        for i in range(n*m):\n",
    "            pbar.update(1)"
   ]
  },
  {
   "cell_type": "code",
   "execution_count": null,
   "id": "faced-little",
   "metadata": {},
   "outputs": [],
   "source": []
  },
  {
   "cell_type": "code",
   "execution_count": null,
   "id": "narrow-multiple",
   "metadata": {},
   "outputs": [],
   "source": []
  }
 ],
 "metadata": {
  "kernelspec": {
   "display_name": "Python 3",
   "language": "python",
   "name": "python3"
  },
  "language_info": {
   "codemirror_mode": {
    "name": "ipython",
    "version": 3
   },
   "file_extension": ".py",
   "mimetype": "text/x-python",
   "name": "python",
   "nbconvert_exporter": "python",
   "pygments_lexer": "ipython3",
   "version": "3.8.6"
  }
 },
 "nbformat": 4,
 "nbformat_minor": 5
}
