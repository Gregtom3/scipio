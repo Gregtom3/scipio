{
 "cells": [
  {
   "cell_type": "code",
   "execution_count": 11,
   "id": "reduced-water",
   "metadata": {},
   "outputs": [
    {
     "name": "stdout",
     "output_type": "stream",
     "text": [
      "(TString &) \"aaba\"[4]\n"
     ]
    }
   ],
   "source": [
    "TString str=\"aaba\""
   ]
  },
  {
   "cell_type": "code",
   "execution_count": 12,
   "id": "measured-enhancement",
   "metadata": {},
   "outputs": [],
   "source": [
    "string b = string(str);"
   ]
  },
  {
   "cell_type": "code",
   "execution_count": 13,
   "id": "amended-tenant",
   "metadata": {},
   "outputs": [
    {
     "name": "stdout",
     "output_type": "stream",
     "text": [
      "aaba"
     ]
    }
   ],
   "source": [
    "cout << b;"
   ]
  },
  {
   "cell_type": "code",
   "execution_count": null,
   "id": "minimal-violence",
   "metadata": {},
   "outputs": [],
   "source": []
  }
 ],
 "metadata": {
  "kernelspec": {
   "display_name": "ROOT C++",
   "language": "c++",
   "name": "root"
  },
  "language_info": {
   "codemirror_mode": "text/x-c++src",
   "file_extension": ".C",
   "mimetype": " text/x-c++src",
   "name": "c++"
  }
 },
 "nbformat": 4,
 "nbformat_minor": 5
}
